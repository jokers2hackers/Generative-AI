{
  "nbformat": 4,
  "nbformat_minor": 0,
  "metadata": {
    "colab": {
      "provenance": []
    },
    "kernelspec": {
      "name": "python3",
      "display_name": "Python 3"
    },
    "language_info": {
      "name": "python"
    }
  },
  "cells": [
    {
      "cell_type": "markdown",
      "source": [
        "Building important functionalities of classic libraries like numpy, pytorch from ground up. \\\n",
        "Libraries / tools assumed:\n",
        "1. Python and its standard library\n",
        "2. Jupyter notebooks + nbdev\n",
        "3. Matplotlib for plotting"
      ],
      "metadata": {
        "id": "7FQxFxHrAOjJ"
      }
    },
    {
      "cell_type": "code",
      "source": [
        "import gzip, os, shutil, math, time, pickle, matplotlib.pyplot as plt, matplotlib as mpl\n",
        "from pathlib import Path"
      ],
      "metadata": {
        "id": "1vNgF0j7Aer8"
      },
      "execution_count": 1,
      "outputs": []
    },
    {
      "cell_type": "code",
      "source": [
        "MNIST_URL = 'https://github.com/mnielsen/neural-networks-and-deep-learning/blob/master/data/mnist.pkl.gz?raw=true' # dataset used\n",
        "path_data = Path('data')\n",
        "print(path_data)"
      ],
      "metadata": {
        "colab": {
          "base_uri": "https://localhost:8080/"
        },
        "id": "Z_OzM_IBAnqR",
        "outputId": "e6350e71-3782-4eaf-afba-42f1d5639350"
      },
      "execution_count": 2,
      "outputs": [
        {
          "output_type": "stream",
          "name": "stdout",
          "text": [
            "data\n"
          ]
        }
      ]
    },
    {
      "cell_type": "code",
      "source": [
        "path_data.mkdir(exist_ok=True) # create a directory with the given name\n",
        "path_gz = path_data / 'mnist.pkl.gz' # gz file with the mnist data"
      ],
      "metadata": {
        "id": "HP2tng3NA2eb"
      },
      "execution_count": 3,
      "outputs": []
    },
    {
      "cell_type": "code",
      "source": [
        "# we need a way to retrieve the mnist data from the URL - urlretrieve library helps us to do the same\n",
        "from urllib.request import urlretrieve\n",
        "if not path_gz.exists() : return_url = urlretrieve(MNIST_URL, path_gz)\n",
        "print(return_url)\n"
      ],
      "metadata": {
        "colab": {
          "base_uri": "https://localhost:8080/"
        },
        "id": "dIxH1A8nBDq8",
        "outputId": "6c32bcbd-54c9-4203-a46d-12df715261ad"
      },
      "execution_count": 7,
      "outputs": [
        {
          "output_type": "stream",
          "name": "stdout",
          "text": [
            "(PosixPath('data/mnist.pkl.gz'), <http.client.HTTPMessage object at 0x7962bbb386b0>)\n"
          ]
        }
      ]
    },
    {
      "cell_type": "code",
      "source": [
        "with gzip.open(path_gz, 'rb') as f : mnist = pickle.load(f,encoding='latin-1')"
      ],
      "metadata": {
        "id": "rPxJ5fM9CFSF"
      },
      "execution_count": 8,
      "outputs": []
    },
    {
      "cell_type": "code",
      "source": [
        "train_data, valid_data, _ = mnist"
      ],
      "metadata": {
        "id": "AOa88kDOCmR8"
      },
      "execution_count": 11,
      "outputs": []
    },
    {
      "cell_type": "code",
      "source": [
        "x_train, y_train = train_data\n",
        "x_val, y_val = valid_data\n",
        "# print the shapes of the data\n",
        "print(x_train.shape, y_train.shape, x_val.shape, y_val.shape)"
      ],
      "metadata": {
        "colab": {
          "base_uri": "https://localhost:8080/"
        },
        "id": "kadkgbOsCnjc",
        "outputId": "b02c2d5b-2cfd-435d-b735-7af168f52180"
      },
      "execution_count": 12,
      "outputs": [
        {
          "output_type": "stream",
          "name": "stdout",
          "text": [
            "(50000, 784) (50000,) (10000, 784) (10000,)\n"
          ]
        }
      ]
    },
    {
      "cell_type": "code",
      "source": [
        "# inspect the first train image\n",
        "train_img1 = list(x_train[0])\n",
        "print(len(train_img1))"
      ],
      "metadata": {
        "colab": {
          "base_uri": "https://localhost:8080/"
        },
        "id": "cpdG2SnGCz-Q",
        "outputId": "14d8aa36-a929-47f7-b76c-a1a048efb42c"
      },
      "execution_count": 13,
      "outputs": [
        {
          "output_type": "stream",
          "name": "stdout",
          "text": [
            "784\n"
          ]
        }
      ]
    },
    {
      "cell_type": "code",
      "source": [
        "print(train_img1[200:210])"
      ],
      "metadata": {
        "colab": {
          "base_uri": "https://localhost:8080/"
        },
        "id": "rXdNSwRkEB6M",
        "outputId": "3dff4718-752d-483c-b213-a08914c3362f"
      },
      "execution_count": 14,
      "outputs": [
        {
          "output_type": "stream",
          "name": "stdout",
          "text": [
            "[np.float32(0.0), np.float32(0.0), np.float32(0.0), np.float32(0.19140625), np.float32(0.9296875), np.float32(0.98828125), np.float32(0.98828125), np.float32(0.98828125), np.float32(0.98828125), np.float32(0.98828125)]\n"
          ]
        }
      ]
    },
    {
      "cell_type": "code",
      "source": [
        "# function to chunk the list into smaller parts and yield them like a iterator\n",
        "def chunk(lst, n):\n",
        "  for i in range(0, len(lst), n) : yield lst[i : i+n]"
      ],
      "metadata": {
        "id": "Sc94v2YQEEAB"
      },
      "execution_count": 15,
      "outputs": []
    },
    {
      "cell_type": "code",
      "source": [
        "next(chunk(train_img1, 5)) # when you have an iterator , using next will fetch the elements in the current iteration of the iterator"
      ],
      "metadata": {
        "colab": {
          "base_uri": "https://localhost:8080/"
        },
        "id": "yFwd7e_REjFK",
        "outputId": "6716f457-deeb-4b06-c873-96bf686139e7"
      },
      "execution_count": 25,
      "outputs": [
        {
          "output_type": "execute_result",
          "data": {
            "text/plain": [
              "[np.float32(0.0),\n",
              " np.float32(0.0),\n",
              " np.float32(0.0),\n",
              " np.float32(0.0),\n",
              " np.float32(0.0)]"
            ]
          },
          "metadata": {},
          "execution_count": 25
        }
      ]
    },
    {
      "cell_type": "code",
      "source": [
        "next(chunk(train_img1, 5))"
      ],
      "metadata": {
        "colab": {
          "base_uri": "https://localhost:8080/"
        },
        "id": "ZGnk8ELDEmVd",
        "outputId": "686c381b-25eb-4ad6-960f-e1e7b6550805"
      },
      "execution_count": 26,
      "outputs": [
        {
          "output_type": "execute_result",
          "data": {
            "text/plain": [
              "[np.float32(0.0),\n",
              " np.float32(0.0),\n",
              " np.float32(0.0),\n",
              " np.float32(0.0),\n",
              " np.float32(0.0)]"
            ]
          },
          "metadata": {},
          "execution_count": 26
        }
      ]
    },
    {
      "cell_type": "code",
      "source": [
        "mpl.rcParams['image.cmap'] = 'gray'\n",
        "# plot the first image resizing using chunk function\n",
        "plt.imshow(list(chunk(train_img1, 28)))"
      ],
      "metadata": {
        "colab": {
          "base_uri": "https://localhost:8080/",
          "height": 447
        },
        "id": "ieogkvVlFQu1",
        "outputId": "6ebe5fd6-ee90-4bf0-f21b-389da7d0b877"
      },
      "execution_count": 27,
      "outputs": [
        {
          "output_type": "execute_result",
          "data": {
            "text/plain": [
              "<matplotlib.image.AxesImage at 0x7962a273a990>"
            ]
          },
          "metadata": {},
          "execution_count": 27
        },
        {
          "output_type": "display_data",
          "data": {
            "text/plain": [
              "<Figure size 640x480 with 1 Axes>"
            ],
            "image/png": "[encoded data removed]"
          },
          "metadata": {}
        }
      ]
    },
    {
      "cell_type": "code",
      "source": [
        "from itertools import islice # very useful iterator tool for streaming data piece by piece"
      ],
      "metadata": {
        "id": "FDZ9nqCkFc5f"
      },
      "execution_count": 28,
      "outputs": []
    },
    {
      "cell_type": "code",
      "source": [
        "islice?"
      ],
      "metadata": {
        "id": "w2Qj6nagFi6f"
      },
      "execution_count": 29,
      "outputs": []
    },
    {
      "cell_type": "code",
      "source": [
        "vals = train_img1[200:210]"
      ],
      "metadata": {
        "id": "5cmvEKKFH8JN"
      },
      "execution_count": 45,
      "outputs": []
    },
    {
      "cell_type": "code",
      "source": [
        "vals"
      ],
      "metadata": {
        "colab": {
          "base_uri": "https://localhost:8080/"
        },
        "id": "Bj3hFqXMH2yy",
        "outputId": "2baaaa31-0b72-4b55-fe30-07f62c11f44e"
      },
      "execution_count": 46,
      "outputs": [
        {
          "output_type": "execute_result",
          "data": {
            "text/plain": [
              "[np.float32(0.0),\n",
              " np.float32(0.0),\n",
              " np.float32(0.0),\n",
              " np.float32(0.19140625),\n",
              " np.float32(0.9296875),\n",
              " np.float32(0.98828125),\n",
              " np.float32(0.98828125),\n",
              " np.float32(0.98828125),\n",
              " np.float32(0.98828125),\n",
              " np.float32(0.98828125)]"
            ]
          },
          "metadata": {},
          "execution_count": 46
        }
      ]
    },
    {
      "cell_type": "code",
      "source": [
        "it = iter(vals) # an iterable over values"
      ],
      "metadata": {
        "id": "uaqzvXK5ILZp"
      },
      "execution_count": 47,
      "outputs": []
    },
    {
      "cell_type": "code",
      "source": [
        "val_iter = islice(it, 5) # collect 5 values from the iterator and then return them"
      ],
      "metadata": {
        "id": "NktYojYEIY4L"
      },
      "execution_count": 48,
      "outputs": []
    },
    {
      "cell_type": "code",
      "source": [
        "list(val_iter)"
      ],
      "metadata": {
        "colab": {
          "base_uri": "https://localhost:8080/"
        },
        "id": "RFJLg8_KIiry",
        "outputId": "0e6e5691-6484-4e15-aaf3-493972a694cf"
      },
      "execution_count": 49,
      "outputs": [
        {
          "output_type": "execute_result",
          "data": {
            "text/plain": [
              "[np.float32(0.0),\n",
              " np.float32(0.0),\n",
              " np.float32(0.0),\n",
              " np.float32(0.19140625),\n",
              " np.float32(0.9296875)]"
            ]
          },
          "metadata": {},
          "execution_count": 49
        }
      ]
    },
    {
      "cell_type": "code",
      "source": [
        "list(val_iter)"
      ],
      "metadata": {
        "colab": {
          "base_uri": "https://localhost:8080/"
        },
        "id": "Ngozd8z4IkBN",
        "outputId": "1cbe69f9-2525-4d78-dde6-ee89fb12bb34"
      },
      "execution_count": 51,
      "outputs": [
        {
          "output_type": "execute_result",
          "data": {
            "text/plain": [
              "[]"
            ]
          },
          "metadata": {},
          "execution_count": 51
        }
      ]
    },
    {
      "cell_type": "code",
      "source": [
        "iter?\n"
      ],
      "metadata": {
        "id": "gLV-54HrInmR"
      },
      "execution_count": 52,
      "outputs": []
    },
    {
      "cell_type": "code",
      "source": [
        "# split the original 784 long list into a matrix of size 28X28\n",
        "it = iter(train_img1) # iterator over the image 1\n",
        "img = list(iter(lambda : list(islice(it, 28)),[]))"
      ],
      "metadata": {
        "id": "eeudRL68JEJP"
      },
      "execution_count": 53,
      "outputs": []
    },
    {
      "cell_type": "code",
      "source": [
        "plt.imshow(img)"
      ],
      "metadata": {
        "colab": {
          "base_uri": "https://localhost:8080/",
          "height": 447
        },
        "id": "5GFwtzyWJd88",
        "outputId": "af8e1a47-fbed-4a55-f2fc-9f86a9a93771"
      },
      "execution_count": 54,
      "outputs": [
        {
          "output_type": "execute_result",
          "data": {
            "text/plain": [
              "<matplotlib.image.AxesImage at 0x7962a2759160>"
            ]
          },
          "metadata": {},
          "execution_count": 54
        },
        {
          "output_type": "display_data",
          "data": {
            "text/plain": [
              "<Figure size 640x480 with 1 Axes>"
            ],
            "image/png": "[encoded data removed]"
          },
          "metadata": {}
        }
      ]
    },
    {
      "cell_type": "markdown",
      "source": [
        "The way img was constructed above demands explanation. \\\n",
        "first of all the list train_img1 holds the 784 values describing the image in pixels. We create an iterator over that list, which will return the elements in that list one by one when next is called on that iterator"
      ],
      "metadata": {
        "id": "0TDNoh6xJh6X"
      }
    },
    {
      "cell_type": "markdown",
      "source": [
        "we pass that it to islice with 28 as stop limit, which means that it will start from current index and get 28 values from the current index and return each time it is called. This functionality is called as a callable to iter again with the sentinel i.e termination condition being [] i.e empty list"
      ],
      "metadata": {
        "id": "mE1gG-uoJxVZ"
      }
    },
    {
      "cell_type": "markdown",
      "source": [
        "MATRIX AND TENSORS"
      ],
      "metadata": {
        "id": "tLF1QPpDKCoF"
      }
    },
    {
      "cell_type": "code",
      "source": [
        "len(img), len(img[0])"
      ],
      "metadata": {
        "colab": {
          "base_uri": "https://localhost:8080/"
        },
        "id": "Pls6H0G3Jfhq",
        "outputId": "843044f8-dc69-4b11-a569-070dc8270db2"
      },
      "execution_count": 55,
      "outputs": [
        {
          "output_type": "execute_result",
          "data": {
            "text/plain": [
              "(28, 28)"
            ]
          },
          "metadata": {},
          "execution_count": 55
        }
      ]
    },
    {
      "cell_type": "code",
      "source": [
        "# img is a 2D list.\n",
        "img[20][10] # its values can be accessed this way"
      ],
      "metadata": {
        "colab": {
          "base_uri": "https://localhost:8080/"
        },
        "id": "ZF1XOQf1KHVp",
        "outputId": "f80bd0d0-eab8-43cd-c3cd-d92b485de091"
      },
      "execution_count": 57,
      "outputs": [
        {
          "output_type": "execute_result",
          "data": {
            "text/plain": [
              "np.float32(0.09375)"
            ]
          },
          "metadata": {},
          "execution_count": 57
        }
      ]
    },
    {
      "cell_type": "code",
      "source": [
        "# standard libraries support an alternate accessor -> img[a,b]\n",
        "# implementation for the above accessor support\n",
        "class Matrix:\n",
        "  def __init__(self, xs) : self.xs = xs\n",
        "  def __getitem__(self, idx) : return self.xs[idx[0]][idx[1]]"
      ],
      "metadata": {
        "id": "B9h0U4kmKMGa"
      },
      "execution_count": 58,
      "outputs": []
    },
    {
      "cell_type": "markdown",
      "source": [
        "In the above code cell, Matrix is a class which may have many functions. the two functions are important functions with specific purposes. the functions which have __ (called dunders) have specific functionalities like acting as constructor, acting as accessors, setters, getters etc"
      ],
      "metadata": {
        "id": "XR_hsUKgKosS"
      }
    },
    {
      "cell_type": "code",
      "source": [
        "m = Matrix(img)"
      ],
      "metadata": {
        "id": "JBVWyJ8mKn92"
      },
      "execution_count": 59,
      "outputs": []
    },
    {
      "cell_type": "code",
      "source": [
        "m[20,10]"
      ],
      "metadata": {
        "colab": {
          "base_uri": "https://localhost:8080/"
        },
        "id": "6ZzibJ46K7hw",
        "outputId": "b60ee383-e705-4b8b-8552-bdbbd6cfbbac"
      },
      "execution_count": 60,
      "outputs": [
        {
          "output_type": "execute_result",
          "data": {
            "text/plain": [
              "np.float32(0.09375)"
            ]
          },
          "metadata": {},
          "execution_count": 60
        }
      ]
    },
    {
      "cell_type": "markdown",
      "source": [
        "We have achieved the functionality of accessing through m[a,b]"
      ],
      "metadata": {
        "id": "dzJkBGXwK-FK"
      }
    },
    {
      "cell_type": "code",
      "source": [
        "# we can wrap the creation of 2d lists from 1d lists and the accessor in the class\n",
        "class Matrix:\n",
        "  def __init__(self, lst, m, n):\n",
        "    assert len(lst) == m*n\n",
        "    self.lst = lst\n",
        "    self.m, self.n = m, n\n",
        "    it = iter(lst)\n",
        "    self.mat = list(iter(lambda : list(islice(it, n)), []))\n",
        "\n",
        "  def __getitem__(self, idx):\n",
        "    return self.mat[idx[0]][idx[1]]\n"
      ],
      "metadata": {
        "id": "6I0r4Z7iK8_R"
      },
      "execution_count": 61,
      "outputs": []
    },
    {
      "cell_type": "code",
      "source": [
        "m = Matrix(train_img1, 28, 28)"
      ],
      "metadata": {
        "id": "09XDbgZBLu8G"
      },
      "execution_count": 62,
      "outputs": []
    },
    {
      "cell_type": "code",
      "source": [
        "m[20,10]"
      ],
      "metadata": {
        "colab": {
          "base_uri": "https://localhost:8080/"
        },
        "id": "JUg1kn77Lxt-",
        "outputId": "c162a50a-2745-4e43-ddae-b3e9e9be694a"
      },
      "execution_count": 64,
      "outputs": [
        {
          "output_type": "execute_result",
          "data": {
            "text/plain": [
              "np.float32(0.09375)"
            ]
          },
          "metadata": {},
          "execution_count": 64
        }
      ]
    },
    {
      "cell_type": "code",
      "source": [
        "# illustration of the same in pytorch\n",
        "import torch\n",
        "from torch import tensor"
      ],
      "metadata": {
        "id": "G_pxUXeyL5uW"
      },
      "execution_count": 65,
      "outputs": []
    },
    {
      "cell_type": "code",
      "source": [
        "x_train, y_train, x_val, y_val = map(tensor, (x_train, y_train, x_val, y_val))"
      ],
      "metadata": {
        "id": "R-FLPc_-MBHy"
      },
      "execution_count": 67,
      "outputs": []
    },
    {
      "cell_type": "code",
      "source": [
        "x_train.shape"
      ],
      "metadata": {
        "colab": {
          "base_uri": "https://localhost:8080/"
        },
        "id": "6pOafXb5LzQ-",
        "outputId": "0f0d2584-084c-4dcb-938e-b9a5d0af3047"
      },
      "execution_count": 68,
      "outputs": [
        {
          "output_type": "execute_result",
          "data": {
            "text/plain": [
              "torch.Size([50000, 784])"
            ]
          },
          "metadata": {},
          "execution_count": 68
        }
      ]
    },
    {
      "cell_type": "code",
      "source": [
        "x_train = x_train.reshape(-1, 28,28)"
      ],
      "metadata": {
        "id": "Mfb3urtBMSHl"
      },
      "execution_count": 70,
      "outputs": []
    },
    {
      "cell_type": "code",
      "source": [
        "x_train[0,20,10]"
      ],
      "metadata": {
        "colab": {
          "base_uri": "https://localhost:8080/"
        },
        "id": "T6zhRS4dMT3U",
        "outputId": "9ea287eb-ba49-4517-8298-8a0cdc65d277"
      },
      "execution_count": 73,
      "outputs": [
        {
          "output_type": "execute_result",
          "data": {
            "text/plain": [
              "tensor(0.0938)"
            ]
          },
          "metadata": {},
          "execution_count": 73
        }
      ]
    },
    {
      "cell_type": "markdown",
      "source": [
        "Playing around with Random Numbers"
      ],
      "metadata": {
        "id": "fLprpLNGMeD4"
      }
    },
    {
      "cell_type": "code",
      "source": [
        "divmod?"
      ],
      "metadata": {
        "id": "CXus4-GQUlec"
      },
      "execution_count": 74,
      "outputs": []
    },
    {
      "cell_type": "code",
      "source": [
        "#Wichmann Hill algorithm\n",
        "rnd_state = None\n",
        "def seed(a):\n",
        "  global rnd_state # the global random variable is used inside function\n",
        "  a, x = divmod(a, 30268)\n",
        "  a, y = divmod(a, 30306)\n",
        "  a, z = divmod(a, 30322)\n",
        "  rnd_state = int(x) + 1, int(y) + 1, int(z) + 1"
      ],
      "metadata": {
        "id": "6lcTrVa3MXgk"
      },
      "execution_count": 87,
      "outputs": []
    },
    {
      "cell_type": "code",
      "source": [
        "seed(9310847109182)"
      ],
      "metadata": {
        "id": "FMd6NzPLU0FJ"
      },
      "execution_count": 88,
      "outputs": []
    },
    {
      "cell_type": "code",
      "source": [
        "rnd_state"
      ],
      "metadata": {
        "colab": {
          "base_uri": "https://localhost:8080/"
        },
        "id": "r8j-HsOoU7Ld",
        "outputId": "6e8ca893-5b40-4947-a864-5a15f84ca9b6"
      },
      "execution_count": 89,
      "outputs": [
        {
          "output_type": "execute_result",
          "data": {
            "text/plain": [
              "(26443, 7656, 10151)"
            ]
          },
          "metadata": {},
          "execution_count": 89
        }
      ]
    },
    {
      "cell_type": "code",
      "source": [
        "# function to generate random number between 0 and 1\n",
        "def rand():\n",
        "  global rnd_state\n",
        "  x,y,z = rnd_state\n",
        "  x = (171 * x) % 30269\n",
        "  y = (172 * y) % 30307\n",
        "  z = (170 * z) % 30323\n",
        "  rnd_state = x, y, z # here is where the randomization happens\n",
        "  # rnd_state is updated here and the next time rand() gets called, this is used as input to further compute x, y, z\n",
        "  return (x / 30269 +  y /  30307 + z / 30323) % 1.0"
      ],
      "metadata": {
        "id": "OtdxuFG7U8AW"
      },
      "execution_count": 90,
      "outputs": []
    },
    {
      "cell_type": "code",
      "source": [
        "rand(), rnd_state"
      ],
      "metadata": {
        "colab": {
          "base_uri": "https://localhost:8080/"
        },
        "id": "BKJwb_PFWVwJ",
        "outputId": "4d0ebbe4-8097-404d-acb9-13e88c634089"
      },
      "execution_count": 91,
      "outputs": [
        {
          "output_type": "execute_result",
          "data": {
            "text/plain": [
              "(0.7449796891269935, (11672, 13631, 27582))"
            ]
          },
          "metadata": {},
          "execution_count": 91
        }
      ]
    },
    {
      "cell_type": "code",
      "source": [
        "rand(), rnd_state"
      ],
      "metadata": {
        "colab": {
          "base_uri": "https://localhost:8080/"
        },
        "id": "Yzg2vNZCWXfW",
        "outputId": "6818da55-4470-4a5c-c7d6-3b36fc2f5309"
      },
      "execution_count": 92,
      "outputs": [
        {
          "output_type": "execute_result",
          "data": {
            "text/plain": [
              "(0.9316843523504539, (28427, 10893, 19198))"
            ]
          },
          "metadata": {},
          "execution_count": 92
        }
      ]
    },
    {
      "cell_type": "code",
      "source": [
        "rand(), rnd_state"
      ],
      "metadata": {
        "colab": {
          "base_uri": "https://localhost:8080/"
        },
        "id": "X0REs_5JWhyR",
        "outputId": "ac949615-b0a0-4566-f9ad-c43dec8ad2fe"
      },
      "execution_count": 93,
      "outputs": [
        {
          "output_type": "execute_result",
          "data": {
            "text/plain": [
              "(0.04432939161206839, (17977, 24869, 19099))"
            ]
          },
          "metadata": {},
          "execution_count": 93
        }
      ]
    },
    {
      "cell_type": "code",
      "source": [
        "if os.fork(): print(f'In parent: {rand()}')\n",
        "else:\n",
        "    print(f'In child: {rand()}')\n",
        "    os._exit(os.EX_OK)"
      ],
      "metadata": {
        "colab": {
          "base_uri": "https://localhost:8080/"
        },
        "id": "PTNpTBIVWjkK",
        "outputId": "6ea3af50-e433-4d54-d3d0-25a8798be72e"
      },
      "execution_count": 97,
      "outputs": [
        {
          "output_type": "stream",
          "name": "stdout",
          "text": [
            "In parent: 0.3390084243896412\n"
          ]
        },
        {
          "output_type": "stream",
          "name": "stderr",
          "text": [
            "/tmp/ipython-input-2916155298.py:1: DeprecationWarning: This process (pid=629) is multi-threaded, use of fork() may lead to deadlocks in the child.\n",
            "  if os.fork(): print(f'In parent: {rand()}')\n"
          ]
        },
        {
          "output_type": "stream",
          "name": "stdout",
          "text": [
            "In child: 0.3390084243896412"
          ]
        }
      ]
    },
    {
      "cell_type": "markdown",
      "source": [
        "There are some subtleties associated with random number generation especially in deep learning where running algorithms on data parallely is often done. there are instances where a parent process runs algorithm on certain data and a child process runs algorithm on some other data and we may have to use rand() to choose different portion of data to run on child and parent process. but in our current implementation, if we call rand() on a child process called from forking parent process, we get same values."
      ],
      "metadata": {
        "id": "6Ymd7x72YhPm"
      }
    },
    {
      "cell_type": "code",
      "source": [
        "\n",
        "plt.plot([rand() for _ in range(50)]);\n"
      ],
      "metadata": {
        "colab": {
          "base_uri": "https://localhost:8080/",
          "height": 430
        },
        "id": "B0EoIpGFYVN1",
        "outputId": "9c9b31ac-4e84-4120-fee3-193a1d1964bf"
      },
      "execution_count": 98,
      "outputs": [
        {
          "output_type": "display_data",
          "data": {
            "text/plain": [
              "<Figure size 640x480 with 1 Axes>"
            ],
            "image/png": "[encoded data removed]"
          },
          "metadata": {}
        }
      ]
    },
    {
      "cell_type": "code",
      "source": [
        "plt.hist([rand() for _ in range(10000)]);"
      ],
      "metadata": {
        "colab": {
          "base_uri": "https://localhost:8080/",
          "height": 430
        },
        "id": "kzS2I7ccZUcw",
        "outputId": "ed182ab1-598c-434a-aedd-48c7e31120af"
      },
      "execution_count": 99,
      "outputs": [
        {
          "output_type": "display_data",
          "data": {
            "text/plain": [
              "<Figure size 640x480 with 1 Axes>"
            ],
            "image/png": "[encoded data removed]"
          },
          "metadata": {}
        }
      ]
    },
    {
      "cell_type": "markdown",
      "source": [
        "This bug is present in pytorch and numpy as well"
      ],
      "metadata": {
        "id": "8hf9QaUmZ7HX"
      }
    },
    {
      "cell_type": "code",
      "source": [
        "import numpy as np\n",
        "if os.fork(): print(f'In parent: {np.random.uniform()}')\n",
        "else:\n",
        "    print(f'In child: {np.random.uniform()}')\n",
        "    os._exit(os.EX_OK)"
      ],
      "metadata": {
        "colab": {
          "base_uri": "https://localhost:8080/"
        },
        "id": "9VSoJILZZXgs",
        "outputId": "0d652621-f7a2-45e5-aed4-9db9fd216c2c"
      },
      "execution_count": 103,
      "outputs": [
        {
          "output_type": "stream",
          "name": "stdout",
          "text": [
            "In parent: 0.21826361896113644\n"
          ]
        },
        {
          "output_type": "stream",
          "name": "stderr",
          "text": [
            "/tmp/ipython-input-546756631.py:2: DeprecationWarning: This process (pid=629) is multi-threaded, use of fork() may lead to deadlocks in the child.\n",
            "  if os.fork(): print(f'In parent: {np.random.uniform()}')\n"
          ]
        },
        {
          "output_type": "stream",
          "name": "stdout",
          "text": [
            "In child: 0.21826361896113644\n"
          ]
        }
      ]
    },
    {
      "cell_type": "code",
      "source": [
        "import numpy as np\n",
        "if os.fork(): print(f'In parent: {torch.rand((1,))}')\n",
        "else:\n",
        "    print(f'In child: {torch.rand((1,))}')\n",
        "    os._exit(os.EX_OK)"
      ],
      "metadata": {
        "colab": {
          "base_uri": "https://localhost:8080/"
        },
        "id": "PQOEJTZFZwZz",
        "outputId": "01af5010-59bb-4f58-cbbc-76d5f46436be"
      },
      "execution_count": 106,
      "outputs": [
        {
          "output_type": "stream",
          "name": "stdout",
          "text": [
            "In parent: tensor([0.3257])\n"
          ]
        },
        {
          "output_type": "stream",
          "name": "stderr",
          "text": [
            "/tmp/ipython-input-1032426683.py:2: DeprecationWarning: This process (pid=629) is multi-threaded, use of fork() may lead to deadlocks in the child.\n",
            "  if os.fork(): print(f'In parent: {torch.rand((1,))}')\n"
          ]
        },
        {
          "output_type": "stream",
          "name": "stdout",
          "text": [
            "In child: tensor([0.3257])"
          ]
        }
      ]
    },
    {
      "cell_type": "code",
      "source": [
        "import random\n",
        "if os.fork(): print(f'In parent: {random.random()}')\n",
        "else:\n",
        "    print(f'In child: {random.random()}')\n",
        "    os._exit(os.EX_OK)"
      ],
      "metadata": {
        "colab": {
          "base_uri": "https://localhost:8080/"
        },
        "id": "6-B1E3c5Z3z6",
        "outputId": "586669f5-ec45-4024-d8b0-2d580b6d0f26"
      },
      "execution_count": 107,
      "outputs": [
        {
          "output_type": "stream",
          "name": "stdout",
          "text": [
            "In parent: 0.6414161612668963\n"
          ]
        },
        {
          "output_type": "stream",
          "name": "stderr",
          "text": [
            "/tmp/ipython-input-628889825.py:2: DeprecationWarning: This process (pid=629) is multi-threaded, use of fork() may lead to deadlocks in the child.\n",
            "  if os.fork(): print(f'In parent: {random.random()}')\n"
          ]
        },
        {
          "output_type": "stream",
          "name": "stdout",
          "text": [
            "In child: 0.5390271164053706"
          ]
        }
      ]
    }
  ]
}